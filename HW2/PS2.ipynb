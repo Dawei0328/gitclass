{
 "cells": [
  {
   "cell_type": "markdown",
   "id": "23b5a238",
   "metadata": {},
   "source": [
    "## CS 506 Spring 2021 - HW2 \n",
    "### Classification and Dimensionality Reduction (Total: 32 points)\n",
    "#### Package Limitations: None\n",
    "\n",
    "#### Name: Dawei Wang\n",
    "#### BU ID:U65522424\n",
    "#### BU Email: wangd30@bu.edu\n",
    "\n",
    "#### People you consulted working on this hw: Sarinna\n",
    "\n",
    "\n",
    "\n"
   ]
  },
  {
   "cell_type": "markdown",
   "id": "730641ac",
   "metadata": {},
   "source": [
    "### 1. Least Squares and Logistic Regression\n",
    "\n",
    "In this section, we are going to compare two linear models for classification, especially when outliers are presented in the data. Please refer to Section 4.1.3 at Page 184 of the book [Pattern Recognition and Machine Learning](http://users.isr.ist.utl.pt/~wurmd/Livros/school/Bishop%20-%20Pattern%20Recognition%20And%20Machine%20Learning%20-%20Springer%20%202006.pdf) for the context of this problem as well as the explanation of Figure1\n",
    "\n",
    "Figure 1: The comparison of least square and logistic regression in classification of two classes with/without outliers\n",
    "\n",
    "![Figure 1](./resource/figure1.jpg)\n",
    "\n",
    "a) \\[1 pt.\\] Generate labeled random 2D points like the ones shown in the left subfigure of Figure1. Note that the red crosses and blue circles are points of different classes, so you may need to have a third column storing the label info of the 2D points. Let’s call this data “data without outlier”. Now on top of this data, add a few outliers to the blue circles just like the right subfigure of Figure1 and save the data as “data with outlier”. You may either use code or even manually choose some random 2D points. Your data need not to be exactly the same as the ones shown on the plots."
   ]
  },
  {
   "cell_type": "code",
   "execution_count": null,
   "id": "6584cbf1-8a4a-4539-822d-0659c72b4889",
   "metadata": {},
   "outputs": [],
   "source": [
    "import numpy as np \n",
    "import pandas as pd \n",
    "\n",
    "from sklearn.model_selection import train_test_split\n",
    "\n",
    "from sklearn.linear_model import LinearRegression, LogisticRegression \n",
    "from sklearn.neighbors import KNeighborsClassifier\n",
    "\n",
    "from sklearn.metrics import accuracy_score\n",
    "\n",
    "from typing import List, Dict, Tuple\n",
    "\n",
    "from tqdm import tqdm\n",
    "from datetime import datetime\n",
    "\n",
    "import matplotlib.pyplot as plt \n",
    "%matplotlib inline "
   ]
  },
  {
   "cell_type": "code",
   "execution_count": null,
   "id": "c9dfe79f",
   "metadata": {},
   "outputs": [],
   "source": [
    "# feel free to write more helper function, but do NOT change the name of the provided function(s). \n",
    "# you may modify inputs and outputs of provided functions. If you do, make sure to indicate\n",
    "# what the they are in the function docstring. This applies to every cells below\n",
    "def generate_random_points(with_outlier, plot=True):\n",
    "    \"\"\"\n",
    "    Generate a few random points and return such dataset\n",
    "    \n",
    "    :param with_outlier: whether outlier is generated with the data points\n",
    "    :return: dataset object (type of your choice)\n",
    "    \"\"\"\n",
    "    feature_data1 = []\n",
    "    feature_data2 = []\n",
    "    \n",
    "    # create class 0 x data with normal distribution mean -2 and std 1 \n",
    "    red_x = np.random.normal(loc=-2, scale=1, size=(50, ))\n",
    "    # move x data up to create y data, add noise \n",
    "    red_y = (red_x + 3) + np.random.normal(loc=0, scale=.8, size=(50, ))\n",
    "    feature_data1.extend(red_x)\n",
    "    feature_data2.extend(red_y)\n",
    "    \n",
    "    # create class 1 x data with normal distribution mean .5 and std 1 \n",
    "    blue_x = np.random.normal(loc=.5, scale=1, size=(50, ))\n",
    "    # move x data down to create y data, add noise \n",
    "    blue_y = (blue_x - 3) + np.random.normal(loc=0, scale=.8, size=(50, ))\n",
    "    feature_data1.extend(blue_x)\n",
    "    feature_data2.extend(blue_y)\n",
    "    \n",
    "    plt.figure(figsize=(5, 5)) if plot else None \n",
    "    if with_outlier: \n",
    "        # get totally random x and y for outlier, with specified config \n",
    "        outlier_blue_x = np.random.normal(loc=6, scale=.8, size=(20, ))\n",
    "        outlier_blue_y = np.random.normal(loc=-6, scale=.8, size=(20, ))\n",
    "        plt.scatter(outlier_blue_x, outlier_blue_y, color='blue') if plot else None \n",
    "        feature_data1.extend(outlier_blue_x)\n",
    "        feature_data2.extend(outlier_blue_y)\n",
    "    \n",
    "    if plot:\n",
    "        plt.scatter(red_x, red_y, color='red')\n",
    "        plt.scatter(blue_x, blue_y, color='blue')\n",
    "\n",
    "        plt.xlim(-4, 8)\n",
    "        plt.ylim(-8, 4)\n",
    "        plt.show()\n",
    "\n",
    "    feature_data1 = np.array(feature_data1).reshape((-1, 1))\n",
    "    feature_data2 = np.array(feature_data2).reshape((-1, 1))\n",
    "    feature_data = np.concatenate([feature_data1, feature_data2], axis=1)\n",
    "    target_data = [0] * 50 + [1] * (70 if with_outlier else 50)\n",
    "    target_data = np.array(target_data).reshape((-1, 1))\n",
    "    return feature_data, target_data"
   ]
  },
  {
   "cell_type": "code",
   "execution_count": null,
   "id": "350f1b21",
   "metadata": {},
   "outputs": [
    {
     "data": {
      "image/png": "[encoded data removed]",
      "text/plain": [
       "<Figure size 360x360 with 1 Axes>"
      ]
     },
     "metadata": {
      "needs_background": "light"
     },
     "output_type": "display_data"
    }
   ],
   "source": [
    "# Do some test print outs to verify correctness\n",
    "feature, target = generate_random_points(True)"
   ]
  },
  {
   "cell_type": "code",
   "execution_count": null,
   "id": "9ab7ba03-d308-4034-aeca-c0d3d9bdbc19",
   "metadata": {},
   "outputs": [
    {
     "data": {
      "text/plain": [
       "0.9833333333333333"
      ]
     },
     "execution_count": 4,
     "metadata": {},
     "output_type": "execute_result"
    }
   ],
   "source": [
    "model = LinearRegression().fit(feature, target.ravel())\n",
    "accuracy_score(target, model.predict(feature).round())"
   ]
  },
  {
   "cell_type": "code",
   "execution_count": null,
   "id": "717e91a4-3f25-408d-9a66-d0e2ee580842",
   "metadata": {},
   "outputs": [
    {
     "data": {
      "text/plain": [
       "1.0"
      ]
     },
     "execution_count": 5,
     "metadata": {},
     "output_type": "execute_result"
    }
   ],
   "source": [
    "model = LogisticRegression().fit(feature, target.ravel())\n",
    "accuracy_score(target, model.predict(feature).round())"
   ]
  },
  {
   "cell_type": "code",
   "execution_count": null,
   "id": "c64c0f24-6112-489a-9c46-8b12d7062586",
   "metadata": {},
   "outputs": [],
   "source": []
  },
  {
   "cell_type": "code",
   "execution_count": null,
   "id": "6f680928-e713-48cf-9fae-40e247431413",
   "metadata": {},
   "outputs": [],
   "source": []
  },
  {
   "cell_type": "markdown",
   "id": "e7e0bddd",
   "metadata": {},
   "source": [
    "b) \\[4 pts.\\] Use both the least squares method and the logistic regression method to classify the “data without outlier” and “data with outlier”."
   ]
  },
  {
   "cell_type": "code",
   "execution_count": null,
   "id": "f5869606",
   "metadata": {},
   "outputs": [],
   "source": [
    "def least_squares_classify(feature, target):\n",
    "    \"\"\"\n",
    "    Classifying dataset with least squares method\n",
    "    \n",
    "    :param dataset: the dataset object to classify\n",
    "    :return: \n",
    "    \"\"\"\n",
    "    model = LinearRegression().fit(feature, target)\n",
    "    prediction = model.predict(feature).round()\n",
    "    \n",
    "    print(f'least square accuracy: {accuracy_score(target, prediction)}')\n",
    "    return prediction\n",
    "\n",
    "\n",
    "def logistic_classify(feature, target): \n",
    "    model = LogisticRegression().fit(feature, target.ravel())\n",
    "    prediction = model.predict(feature).round()\n",
    "    \n",
    "    print(f'logistic accuracy: {accuracy_score(target, prediction)}')\n",
    "    return prediction"
   ]
  },
  {
   "cell_type": "code",
   "execution_count": null,
   "id": "832e8886-f545-49ad-bcfb-35fa840379d6",
   "metadata": {},
   "outputs": [
    {
     "name": "stdout",
     "output_type": "stream",
     "text": [
      "least square accuracy: 1.0\n"
     ]
    }
   ],
   "source": [
    "# Do some test print outs to verify correctness\n",
    "feature_without_outlier, target_without_outlier = generate_random_points(False, plot=False)\n",
    "without_outlier_prediction = least_squares_classify(feature_without_outlier, target_without_outlier)"
   ]
  },
  {
   "cell_type": "code",
   "execution_count": null,
   "id": "eeeb3fba-4ee9-41ba-9494-051c3552273d",
   "metadata": {},
   "outputs": [
    {
     "name": "stdout",
     "output_type": "stream",
     "text": [
      "least square accuracy: 0.9833333333333333\n"
     ]
    }
   ],
   "source": [
    "# Do some test print outs to verify correctness\n",
    "feature_with_outlier, target_with_outlier = generate_random_points(True, plot=False)\n",
    "outlier_prediction = least_squares_classify(feature_with_outlier, target_with_outlier)"
   ]
  },
  {
   "cell_type": "markdown",
   "id": "ff6a30ee",
   "metadata": {},
   "source": [
    "c) \\[2 pts.\\] Plot the classification results into two figures side by side just like Figure1. Have you got similar results like Figure1? Explain briefly why the logistic regression is not sensitive to outliers."
   ]
  },
  {
   "cell_type": "code",
   "execution_count": null,
   "id": "54918a47",
   "metadata": {},
   "outputs": [],
   "source": [
    "def plot_classification_results(agg_feature, agg_prediction, agg_title):\n",
    "    \"\"\"\n",
    "    Plot classification results of data with outlier and data without outlier\n",
    "    \n",
    "    :param: \n",
    "    :return: \n",
    "    \"\"\"\n",
    "    plt.figure(figsize=(10, 5))\n",
    "    # enumerate return (index, data)\n",
    "    # data is from zip(list1, list2, list3)\n",
    "    # hence len(data) == 3, \n",
    "    for index, (feature, prediction, title) in enumerate(\n",
    "            zip(agg_feature, agg_prediction, agg_title)):\n",
    "        # create subplot with 1 row, 2 columns, and current index \n",
    "        # since index from enumerate starts with 0, hence add 1 to start from 1 \n",
    "        plt.subplot(1, 2, index+1)\n",
    "        for class_ in [0, 1]: \n",
    "            # select features with predicted label as class_, and color accordingly \n",
    "            dataset = feature[prediction.flatten() == class_ , :]\n",
    "            plt.scatter(dataset[:, 0], dataset[:, 1], color=('blue' if class_ else 'red'))\n",
    "        # add title, x/y axis range \n",
    "        plt.title(title)\n",
    "        plt.xlim(-4, 8)\n",
    "        plt.ylim(-8, 4)\n",
    "    return None "
   ]
  },
  {
   "cell_type": "code",
   "execution_count": null,
   "id": "39babc5c-af88-47cf-8113-e067abaa09b6",
   "metadata": {},
   "outputs": [
    {
     "data": {
      "image/png": "[encoded data removed]",
      "text/plain": [
       "<Figure size 720x360 with 2 Axes>"
      ]
     },
     "metadata": {
      "needs_background": "light"
     },
     "output_type": "display_data"
    }
   ],
   "source": [
    "plot_classification_results([feature_without_outlier, feature_with_outlier], [without_outlier_prediction, outlier_prediction], ['plot without outlier', 'plot with outlier'])"
   ]
  },
  {
   "cell_type": "code",
   "execution_count": null,
   "id": "9a667161",
   "metadata": {},
   "outputs": [
    {
     "name": "stdout",
     "output_type": "stream",
     "text": [
      "logistic accuracy: 1.0\n"
     ]
    }
   ],
   "source": [
    "# Do some test print outs to verify correctness\n",
    "feature_without_outlier, target_without_outlier = generate_random_points(False, plot=False)\n",
    "without_outlier_prediction = logistic_classify(feature_without_outlier, target_without_outlier)"
   ]
  },
  {
   "cell_type": "code",
   "execution_count": null,
   "id": "b11779b5-d6a3-4e09-b1d6-ae0d487bc146",
   "metadata": {},
   "outputs": [
    {
     "name": "stdout",
     "output_type": "stream",
     "text": [
      "logistic accuracy: 1.0\n"
     ]
    }
   ],
   "source": [
    "# Do some test print outs to verify correctness\n",
    "feature_with_outlier, target_with_outlier = generate_random_points(True, plot=False)\n",
    "outlier_prediction = logistic_classify(feature_with_outlier, target_with_outlier)"
   ]
  },
  {
   "cell_type": "code",
   "execution_count": null,
   "id": "d20ba15d-1e88-4236-86ac-c8ee0a980488",
   "metadata": {},
   "outputs": [
    {
     "data": {
      "image/png": "[encoded data removed]",
      "text/plain": [
       "<Figure size 720x360 with 2 Axes>"
      ]
     },
     "metadata": {
      "needs_background": "light"
     },
     "output_type": "display_data"
    }
   ],
   "source": [
    "plot_classification_results([feature_without_outlier, feature_with_outlier], [without_outlier_prediction, outlier_prediction], ['plot without outlier', 'plot with outlier'])"
   ]
  },
  {
   "cell_type": "code",
   "execution_count": null,
   "id": "eb2913df-1eb6-418b-8bee-57771e32723b",
   "metadata": {},
   "outputs": [],
   "source": []
  },
  {
   "cell_type": "markdown",
   "id": "749419db",
   "metadata": {
    "tags": []
   },
   "source": [
    "### 2 Logistic Regression and kNN Classification\n",
    "\n",
    "The goal of this problem is to perform classification on the famous MNIST dataset.\n",
    "\n",
    "We have already preprocessed a sample of this dataset (30% of the original dataset), that you can find here: [Download from Google Drive](https://drive.google.com/open?id=1phX7-hv5FNye7mPzddr1oplZIhAgmycz) in the format of NumPy arrays.\n",
    "\n",
    "File mnist data.npy contains an array of the data -each row corresponds to a 28 × 28 digit picture vectorized to create 28*28=784 features, while the file mnist labels.npy contains the respective labels of the images.\n",
    "\n",
    "a) \\[0 pts.\\] Randomly split the dataset, using 20% of the samples as your test set and the remaining 80% as the train set that you will use to fit your models."
   ]
  },
  {
   "cell_type": "code",
   "execution_count": null,
   "id": "be80d1d1",
   "metadata": {},
   "outputs": [],
   "source": [
    "def read_mnist_data(feature_path, target_path, test_size=0.2) -> np.array:\n",
    "    \"\"\"\n",
    "    Load numpy array of MNIST dataset from data.npy file\n",
    "    \n",
    "    :param file_path: string path to dataset \n",
    "    :return: numpy array representation of the mnist dataset\n",
    "    \"\"\"\n",
    "    feature, target = np.load(feature_path), np.load(target_path)\n",
    "    return train_test_split(feature, target, test_size=test_size)"
   ]
  },
  {
   "cell_type": "code",
   "execution_count": null,
   "id": "b45dea6e-4e7d-4d06-9612-f5593ea5c2a5",
   "metadata": {
    "tags": []
   },
   "outputs": [],
   "source": [
    "all_data= read_mnist_data('mnist_data.npy', 'mnist_labels.npy')"
   ]
  },
  {
   "cell_type": "markdown",
   "id": "8043a04d",
   "metadata": {},
   "source": [
    "\n",
    "b) \\[2 pts.\\] Try to classify the images using Logistic Regression. Have in mind that the dataset contains more than 2 labels, hence is a multinomial classification problem. What is your train accuracy and test accuracy?"
   ]
  },
  {
   "cell_type": "code",
   "execution_count": null,
   "id": "41335ffc",
   "metadata": {},
   "outputs": [],
   "source": [
    "def logistic_regression_classify_mnist(train_feature, test_feature, train_target, test_target, max_iter=100):\n",
    "    \"\"\"\n",
    "    Classify mnist dataset with logistic regression\n",
    "    \n",
    "    :param dataset: mnist dataset in numpy format\n",
    "    :return: train and test accuracy of the model\n",
    "    \"\"\"\n",
    "    model = LogisticRegression(max_iter=max_iter, multi_class='multinomial', n_jobs=-1).fit(train_feature, train_target)\n",
    "    train_prediction = model.predict(train_feature)\n",
    "    test_prediction = model.predict(test_feature)\n",
    "    print(f'train accuracy: {accuracy_score(train_target.flatten(), train_prediction.flatten())}')\n",
    "    print(f' test accuracy: {accuracy_score(test_target.flatten(), test_prediction.flatten())}')\n",
    "    return None "
   ]
  },
  {
   "cell_type": "code",
   "execution_count": null,
   "id": "c20ca9a7-11a7-44cf-a6f5-69de5ee2d5f2",
   "metadata": {},
   "outputs": [
    {
     "name": "stdout",
     "output_type": "stream",
     "text": [
      "train accuracy: 0.9575\n",
      " test accuracy: 0.8941666666666667\n"
     ]
    }
   ],
   "source": [
    "logistic_regression_classify_mnist(*all_data)"
   ]
  },
  {
   "cell_type": "code",
   "execution_count": 18,
   "id": "da764b48-ee8b-44f6-9f76-985f5cd94df5",
   "metadata": {},
   "outputs": [],
   "source": [
    "logistic_regression_classify_mnist(*all_data, max_iter=1_000)"
   ]
  },
  {
   "cell_type": "code",
   "execution_count": null,
   "id": "fdf02f7a-e03a-479e-91a6-73b9c62fbc9c",
   "metadata": {},
   "outputs": [],
   "source": []
  },
  {
   "cell_type": "markdown",
   "id": "192450ad",
   "metadata": {},
   "source": [
    "c) \\[3 pts.\\] Now, try to classify the dataset using a k-Nearest Neighbor classifier. Plot the train and test accuracy as you vary k from 1 to 25 with a step size of 2.\n"
   ]
  },
  {
   "cell_type": "code",
   "execution_count": null,
   "id": "a3651dee",
   "metadata": {},
   "outputs": [],
   "source": [
    "def knn_classify_mnist(train_feature, test_feature, train_target, test_target, neighbors=5):\n",
    "    \"\"\"\n",
    "    Classify mnist dataset with K-nearest neighbor\n",
    "    \n",
    "    :param dataset: mnist dataset in numpy format\n",
    "    :return: train and test accuracy of the model\n",
    "    \"\"\"\n",
    "    model = KNeighborsClassifier(n_neighbors=neighbors, n_jobs=-1).fit(train_feature, train_target)\n",
    "    train_prediction = model.predict(train_feature)\n",
    "    test_prediction = model.predict(test_feature)\n",
    "    return accuracy_score(train_target.flatten(), train_prediction.flatten()), accuracy_score(test_target.flatten(), test_prediction.flatten())"
   ]
  },
  {
   "cell_type": "code",
   "execution_count": null,
   "id": "ce2695bb-eaff-4e4a-be77-0aa2ea27fbfc",
   "metadata": {},
   "outputs": [
    {
     "name": "stderr",
     "output_type": "stream",
     "text": [
      " 13%|████████▌                                                       | 2/15 [01:57<12:14, 56.49s/it]"
     ]
    }
   ],
   "source": [
    "train_record, test_record = [], [] \n",
    "for neighbors in tqdm(range(1, 30, 2), ncols=100):\n",
    "    train_score, test_score = knn_classify_mnist(*all_data, neighbors=neighbors)\n",
    "    train_record.append(train_score)\n",
    "    test_record.append(test_score)"
   ]
  },
  {
   "cell_type": "code",
   "execution_count": null,
   "id": "7e44e06d-94b5-4d97-8750-01b9da50a00e",
   "metadata": {},
   "outputs": [],
   "source": [
    "plt.figure(figsize=(10, 5))\n",
    "plt.plot(range(1, 30, 2), train_record, color='red', label='train accuracy')\n",
    "plt.plot(range(1, 30, 2), test_record, color='blue', label='test accuracy')\n",
    "plt.xlabel('neighbors')\n",
    "plt.ylabel('accuracy')\n",
    "plt.title('training and testing accuracy vs neighbors')\n",
    "plt.axvline(3, color='black')\n",
    "plt.legend()"
   ]
  },
  {
   "cell_type": "markdown",
   "id": "3bd366ec",
   "metadata": {},
   "source": [
    "d) \\[1 pt.\\] Explain your results.\n"
   ]
  },
  {
   "cell_type": "markdown",
   "id": "be963975",
   "metadata": {},
   "source": [
    "1. as number of neighbors increase, both training and testing performance decrease. as neighbor increase, more instances are being considered, making a more generalized prediction. \n",
    "2. gap between training and testing decrease, signaling a increase in generalizability, though performance suffers. \n",
    "---"
   ]
  },
  {
   "cell_type": "markdown",
   "id": "4289da5a",
   "metadata": {},
   "source": [
    "e) \\[5 pts.\\] Now use kNN to explore how a different sized train set affects your results. Plot the accuracy of your model when only using 3,000 of the images in the train set (repeat this experiment using 6,000, 9,000, and so on until you are using the full train set). Use whatever value of k you found that worked best in part (c). You will be doing something similar in Problem 3(d) so it makes sense to run both experiments at the same time."
   ]
  },
  {
   "cell_type": "code",
   "execution_count": null,
   "id": "8daa59c9",
   "metadata": {},
   "outputs": [],
   "source": [
    "def sample_dataset(feature, target, n_samples):\n",
    "    \"\"\"\n",
    "    Randomly sample a certain size of the dataset\n",
    "    \n",
    "    :param select_size: the return size of dataset\n",
    "    :return: random subset of dataset\n",
    "    \"\"\"\n",
    "    return train_test_split(feature, target, train_size=n_samples)\n",
    "\n",
    "\n",
    "def knn_experiment():\n",
    "    \"\"\"\n",
    "    Run mnist knn experiment of varying training size\n",
    "    \n",
    "    :param : (you decide)\n",
    "    :return: list of train and test accuracies of the modeles\n",
    "    \"\"\"\n",
    "    accuracy_record = [] \n",
    "    all_features, all_targets = np.load('mnist_data.npy'), np.load('mnist_labels.npy')\n",
    "    for samples in tqdm(range(3000, 18000, 3000), ncols=100):\n",
    "        # split base on number of samples \n",
    "        all_data = sample_dataset(all_features, all_targets, n_samples=samples)\n",
    "        # fit using training set \n",
    "        model = KNeighborsClassifier(n_neighbors=3, n_jobs=-1).fit(all_data[0], all_data[2])\n",
    "        # predict entire dataset \n",
    "        prediction = model.predict(all_features)\n",
    "        accuracy_record.append(accuracy_score(all_targets, prediction))\n",
    "    \n",
    "    model = KNeighborsClassifier(n_neighbors=3, n_jobs=-1).fit(all_features, all_targets)\n",
    "    prediction = model.predict(all_features)\n",
    "    accuracy_record.append(accuracy_score(all_targets, prediction))\n",
    "    plot_accuracies_over_train_sizes(accuracy_record, list(range(3000, 18000, 3000)) + [18000])\n",
    "    return None     \n",
    "    \n",
    "    \n",
    "def plot_accuracies_over_train_sizes(accuracies: List[Tuple[float, float]], train_sizes: List[float]):\n",
    "    \"\"\"\n",
    "    Plot the accuracies over training size\n",
    "    \n",
    "    :param accuracies: list of train and test accuracies of the model\n",
    "    :param train_sizes: the list of training sizes in the experiment\n",
    "    :return: \n",
    "    \"\"\"\n",
    "    plt.plot(train_sizes, accuracies)\n",
    "    plt.xticks(train_sizes, [str(item) for item in train_sizes])\n",
    "    [plt.axvline(item, alpha=0.5, color='red') for item in train_sizes]\n",
    "    plt.ylim(0.9, 1)\n",
    "    return None \n",
    "\n",
    "\n",
    "knn_experiment()"
   ]
  },
  {
   "cell_type": "markdown",
   "id": "ddc36739",
   "metadata": {},
   "source": [
    "f) \\[2 pts.\\] Give a few bullet points explaining the pros and cons of these algorithms and when and why we use logistic regression over linear regression."
   ]
  },
  {
   "cell_type": "markdown",
   "id": "39cb0545",
   "metadata": {},
   "source": [
    "1. logistic is less sensitive to outliers \n",
    "2. Linear Regression is used to handle regression problems whereas Logistic regression is used to handle the classification problems. Linear regression provides a continuous output but Logistic regression provides discreet output.\n",
    "\n",
    "--- "
   ]
  },
  {
   "cell_type": "code",
   "execution_count": null,
   "metadata": {},
   "outputs": [],
   "source": []
  },
  {
   "cell_type": "markdown",
   "id": "0df1a8a5",
   "metadata": {},
   "source": [
    "### PCA - Dimensionality Reduction\n",
    "\n",
    "The original dataset contains 28 ∗ 28 = 784 features. Therefore, we will try to reduce the dimension by using PCA.\n",
    "\n",
    "a) \\[1 pt.\\] Perform PCA decomposition, initially using all principal components. Before performing PCA you usually need to mean-center the data, [see here why](https://scikit-learn.org/stable/auto_examples/preprocessing/plot_scaling_importance.html), which means you have to calculate the mean of each variable (column) and subtract it from the respective column. However, many libraries perform this step implicitly, so consult the documentation of the library you are going to use (e.g. PCA of Sklearn)."
   ]
  },
  {
   "cell_type": "code",
   "execution_count": null,
   "id": "9c4882d2-75eb-4c08-8b67-64ba609b5836",
   "metadata": {},
   "outputs": [],
   "source": [
    "from sklearn.decomposition import PCA"
   ]
  },
  {
   "cell_type": "code",
   "execution_count": null,
   "id": "f5ab67e8",
   "metadata": {},
   "outputs": [],
   "source": [
    "def pca_decomposition(data, n_components):\n",
    "    \"\"\"\n",
    "    Perform PCA decomposition over mnist dataset\n",
    "    \n",
    "    :param dataset: mnist dataset in numpy format\n",
    "    :param num_components: number of components to reduce to. If None, use all of components\n",
    "    :return: \n",
    "    \"\"\"\n",
    "    dataset = data.copy()\n",
    "    for col_index in range(dataset.shape[1]):\n",
    "        dataset[:, col_index] = dataset[:, col_index] - dataset[:, col_index].mean()\n",
    "    return PCA(n_components=n_components).fit_transform(dataset)\n"
   ]
  },
  {
   "cell_type": "markdown",
   "id": "d40b68d3",
   "metadata": {},
   "source": [
    "b) [2 pts.] Plot the CDF of the explained variance as a function of the number of principal components.\n",
    "\n"
   ]
  },
  {
   "cell_type": "code",
   "execution_count": null,
   "id": "c57bfed4",
   "metadata": {},
   "outputs": [],
   "source": [
    "def calcualte_variance(features):    \n",
    "    total_variance = 0 \n",
    "    \n",
    "    for col_index in range(features.shape[1]):\n",
    "        total_variance += ((features[:, col_index] - features[:, col_index].mean()) ** 2).sum()\n",
    "    return total_variance \n",
    "\n",
    "\n",
    "def plot_pca_cdf():\n",
    "    \"\"\"\n",
    "    Plot CDF of explained variance as a function of number of principal components\n",
    "    \n",
    "    :param: (you decide)\n",
    "    :return: \n",
    "    \"\"\"\n",
    "    # sum(variance of columns) over sum(variance of all dataset)\n",
    "    # variance -> mean of sum(squared deviation)\n",
    "    \n",
    "    features = np.load('mnist_data.npy')\n",
    "    total_variance = calcualte_variance(features)\n",
    "    explained_record = [] \n",
    "    for components in tqdm(range(features.shape[1]), ncols=100): \n",
    "        # get new_feature based on specified components \n",
    "        new_feature = pca_decomposition(features, components)\n",
    "        # calculate variance for new_feature \n",
    "        variance = calcualte_variance(new_feature)\n",
    "        # cauclate percent explained \n",
    "        explained_record.append(variance/total_variance)\n",
    "        \n",
    "    plt.figure(figsize=(10, 5))\n",
    "    plt.scatter(range(features.shape[1]), explained_record, s=10)\n",
    "    \n",
    "plot_pca_cdf()"
   ]
  },
  {
   "cell_type": "markdown",
   "id": "8305ed32",
   "metadata": {},
   "source": [
    "c) [1 pt.] Choose a number of principal components to use by arguing why your choice is reasonable as a trade-off between the number of components used and classification performance. Afterwards, train a kNN classifier (choose a k that gave you the best results in Problem 2c.) and report train and test accuracy.\n"
   ]
  },
  {
   "cell_type": "code",
   "execution_count": null,
   "id": "e7b07433",
   "metadata": {},
   "outputs": [],
   "source": [
    "def knn_classify_mnist_with_pca(feature: np.array, target: np.array, k: int, num_components: int):\n",
    "    \"\"\"\n",
    "    Classify mnist dataset with K-nearest neighbor\n",
    "    \n",
    "    :param dataset: mnist dataset in numpy format\n",
    "    :param k: number of nearest neighbors\n",
    "    :param num_components: number of components to keep after PCA\n",
    "    :return: train and test accuracy of the model\n",
    "    \"\"\"\n",
    "    \n",
    "    new_feature = pca_decomposition(feature, num_components)\n",
    "    train_feature, test_feature, train_target, test_target = train_test_split(new_feature, target, test_size=0.3)\n",
    "    model = KNeighborsClassifier(n_neighbors=k, n_jobs=-1).fit(train_feature, train_target)\n",
    "    train_prediction = model.predict(train_feature)\n",
    "    test_prediction = model.predict(test_feature)\n",
    "    \n",
    "    print(f'train accuracy: {accuracy_score(train_target.flatten(), train_prediction.flatten())}')\n",
    "    print(f' test accuracy: {accuracy_score(test_target.flatten(), test_prediction.flatten())}')\n",
    "    \n",
    "knn_classify_mnist_with_pca(np.load('resource/mnist_data.npy'), np.load('resource/mnist_labels.npy'), 3, 700)"
   ]
  },
  {
   "cell_type": "code",
   "execution_count": null,
   "id": "d6a22f5e",
   "metadata": {},
   "outputs": [],
   "source": []
  },
  {
   "cell_type": "markdown",
   "id": "dd7687c7",
   "metadata": {},
   "source": [
    "d) [5 pts.] For this part we will perform the following experiment: First, randomly sample a part of your dataset (using a fixed k and all features), of size ranging from 3,000 to 18,000 (the whole dataset) in increments of 3,000. Fit a kNN classifier and plot the running time.\n",
    "Now, use a fixed k and all samples of your dataset, but fit a kNN classifier using a varying number of Principal Components, ranging from 50 to 750 in increments of 100. Plot the running time on the same plot as above.\n",
    "\n",
    "Describe the plot. What seems to affect -as a trend- the fitting time more? Number of samples used for trying, or the dimensions of the data?\n",
    "\n",
    "-Python’s time package may be useful for this problem.\n"
   ]
  },
  {
   "cell_type": "code",
   "execution_count": null,
   "id": "f76ec967",
   "metadata": {},
   "outputs": [],
   "source": [
    "def train_size_experiment() :\n",
    "    \"\"\"\n",
    "    Experiment classifying mnist with different training size\n",
    "    \n",
    "    :param : (you decide)\n",
    "    :return: (you decide, you should return list of experiment parameters and results (time, accuracies))\n",
    "    \"\"\"\n",
    "    time_record = [] \n",
    "    features, targets = np.load('mnist_data.npy'), np.load('mnist_labels.npy')\n",
    "    \n",
    "    for samples in tqdm(range(3000, 18000, 3000), ncols=100):        \n",
    "        train_feature, _, train_target, _ = train_test_split(features, targets, train_size=samples)\n",
    "        # record start time \n",
    "        start_time = datetime.now() \n",
    "        KNeighborsClassifier(n_neighbors=3, n_jobs=-1).fit(train_feature, train_target).predict(train_feature)\n",
    "        # calcualte time difference, and take seconds \n",
    "        time_used = (datetime.now() - start_time).microseconds \n",
    "        time_record.append(time_used)\n",
    "    \n",
    "    start_time = datetime.now() \n",
    "    KNeighborsClassifier(n_neighbors=3, n_jobs=-1).fit(features, targets).predict(features)\n",
    "    time_used = (datetime.now() - start_time).microseconds \n",
    "    time_record.append(time_used)\n",
    "    return time_record \n",
    "        \n",
    "    \n",
    "def num_component_experiment() :\n",
    "    \"\"\"\n",
    "    Experiment classifying mnist with different number of top principal components\n",
    "    \n",
    "    :param : (you decide)\n",
    "    :return: (you decide, you should return list of experiment parameters and results (time, accuracies))\n",
    "    \"\"\"\n",
    "    \n",
    "    time_record = [] \n",
    "    features, targets = np.load('mnist_data.npy'), np.load('mnist_labels.npy')\n",
    "    \n",
    "    for components in tqdm(range(50, 751, 100), ncols=100):\n",
    "        new_features = pca_decomposition(features.copy(), components)\n",
    "        start_time = datetime.now() \n",
    "        KNeighborsClassifier(n_neighbors=3, n_jobs=-1).fit(new_features, targets).predict(new_features)\n",
    "        time_used = (datetime.now() - start_time).microseconds \n",
    "        time_record.append(time_used)\n",
    "    return time_record \n",
    "\n",
    "size_time, feature_time = train_size_experiment(), num_component_experiment() "
   ]
  },
  {
   "cell_type": "code",
   "execution_count": null,
   "id": "4ffdaa32",
   "metadata": {},
   "outputs": [],
   "source": [
    "plt.figure(figsize=(10, 5))\n",
    "plt.scatter(range(len(size_time)), size_time, s=10)"
   ]
  },
  {
   "cell_type": "code",
   "execution_count": null,
   "id": "2d40be62-0810-42d3-93d0-5fbd1fc5be52",
   "metadata": {},
   "outputs": [],
   "source": [
    "plt.figure(figsize=(10, 5))\n",
    "plt.scatter(range(len(feature_time)), feature_time, s=10)"
   ]
  },
  {
   "cell_type": "code",
   "execution_count": null,
   "id": "d912231d-de31-48d7-9849-e3af4b16df99",
   "metadata": {},
   "outputs": [],
   "source": []
  },
  {
   "cell_type": "markdown",
   "id": "6c815e2f",
   "metadata": {},
   "source": [
    "e) [3 pts.] Using your results from the previous question, produce the most accurate model you can on the condition that it is faster than 50% of the models you tested. List the values chosen for: k, number of samples, and number of principal components. How does this model compare to your most accurate model (the best model you created when time wasn’t a factor)?\n"
   ]
  },
  {
   "cell_type": "code",
   "execution_count": null,
   "id": "b9f56283",
   "metadata": {},
   "outputs": [],
   "source": [
    "def make_model(components, neighbors, train_size): \n",
    "    \n",
    "    features, targets = np.load('mnist_data.npy'), np.load('mnist_labels.npy')\n",
    "    new_features = pca_decomposition(features, components)\n",
    "    train_feature, test_feature, train_target, test_target = train_test_split(new_features, targets, train_size=train_size)\n",
    "    \n",
    "    model = KNeighborsClassifier(n_neighbors=neighbors, n_jobs=-1).fit(train_feature, train_target)\n",
    "    train_prediction = model.predict(train_feature)\n",
    "    test_prediction = model.predict(test_feature)\n",
    "    \n",
    "    print(f'train accuracy: {accuracy_score(train_target.flatten(), train_prediction.flatten())}')\n",
    "    print(f' test accuracy: {accuracy_score(test_target.flatten(), test_prediction.flatten())}')\n",
    "    return None \n",
    "\n",
    "make_model(500, 3, 9000)"
   ]
  },
  {
   "cell_type": "markdown",
   "id": "21f4886d",
   "metadata": {},
   "source": [
    "f) [1 pt.] Bonus point: Plot the images of the 10 first Principal Components. That is, plot the image approximation using each principle component."
   ]
  },
  {
   "cell_type": "code",
   "execution_count": null,
   "id": "9cbe3924",
   "metadata": {},
   "outputs": [],
   "source": [
    "def plot_components(top_components: int):\n",
    "    \"\"\"\n",
    "    Plot top 10 principal components\n",
    "    \n",
    "    :param top_components: number of top components to plot\n",
    "    :return: \n",
    "    \"\"\"\n",
    "    raise NotImplementedError(\"Implement this function\")"
   ]
  },
  {
   "cell_type": "code",
   "execution_count": null,
   "id": "52243b57",
   "metadata": {},
   "outputs": [],
   "source": []
  },
  {
   "cell_type": "code",
   "execution_count": null,
   "id": "99df2ea9-3899-41f8-83d0-429e46773020",
   "metadata": {},
   "outputs": [],
   "source": []
  }
 ],
 "metadata": {
  "interpreter": {
   "hash": "d3cf82058f217247d1de029181e3bb7eee21be8d97f1ca863e159e4bf861ece0"
  },
  "kernelspec": {
   "display_name": "Python 3.8.3 64-bit ('base': conda)",
   "name": "python3"
  },
  "language_info": {
   "codemirror_mode": {
    "name": "ipython",
    "version": 3
   },
   "file_extension": ".py",
   "mimetype": "text/x-python",
   "name": "python",
   "nbconvert_exporter": "python",
   "pygments_lexer": "ipython3",
   "version": "3.8.3"
  }
 },
 "nbformat": 4,
 "nbformat_minor": 5
}
